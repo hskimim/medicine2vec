{
 "cells": [
  {
   "cell_type": "code",
   "execution_count": 2,
   "metadata": {},
   "outputs": [],
   "source": [
    "from jupyterthemes import jtplot\n",
    "jtplot.style(theme='solarizedl', context='notebook', ticks=True, grid=False, figsize=(10, 6))"
   ]
  },
  {
   "cell_type": "code",
   "execution_count": 3,
   "metadata": {},
   "outputs": [],
   "source": [
    "from IPython.display import display, Markdown\n",
    "from tqdm.notebook import tqdm\n",
    "\n",
    "import random\n",
    "import requests\n",
    "import re\n",
    "from copy import copy\n",
    "from bs4 import BeautifulSoup\n",
    "\n",
    "import numpy as np\n",
    "import pandas as pd\n",
    "\n",
    "import seaborn as sns\n",
    "import matplotlib.pyplot as plt\n",
    "# !wget \"https://www.wfonts.com/download/data/2016/06/13/malgun-gothic/malgun.ttf\"\n",
    "plt.rc('font', family='Malgun Gothic') \n",
    "plt.rcParams['axes.unicode_minus'] = False\n",
    "\n",
    "from sklearn.preprocessing import normalize\n",
    "from nltk.tokenize import word_tokenize\n",
    "from sklearn.manifold import TSNE\n",
    "from sklearn.metrics.pairwise import cosine_similarity\n",
    "from sklearn.cluster import AgglomerativeClustering\n",
    "from gensim.models import Word2Vec, FastText"
   ]
  },
  {
   "cell_type": "code",
   "execution_count": 4,
   "metadata": {},
   "outputs": [],
   "source": [
    "import torch\n",
    "import torch.nn as nn\n",
    "import torch.optim as optim"
   ]
  },
  {
   "cell_type": "markdown",
   "metadata": {},
   "source": [
    "___"
   ]
  },
  {
   "cell_type": "markdown",
   "metadata": {},
   "source": [
    "## Load and Merge"
   ]
  },
  {
   "cell_type": "code",
   "execution_count": 5,
   "metadata": {},
   "outputs": [],
   "source": [
    "main_df = pd.read_pickle(\"data/main_df.pickle\")"
   ]
  },
  {
   "cell_type": "code",
   "execution_count": 6,
   "metadata": {
    "scrolled": false
   },
   "outputs": [],
   "source": [
    "ingredient_df = pd.read_excel(\"data/ingredient_table.xlsx\")\n",
    "ingredient_df = ingredient_df[['제품명', '업체명', '주성분', '품목기준코드', 'ATC코드']].copy()"
   ]
  },
  {
   "cell_type": "code",
   "execution_count": 7,
   "metadata": {},
   "outputs": [],
   "source": [
    "main_df['itemseq'] = main_df['itemseq'].astype(int)\n",
    "merged_df = pd.merge(main_df, ingredient_df, left_on='itemseq', right_on='품목기준코드')"
   ]
  },
  {
   "cell_type": "code",
   "execution_count": 8,
   "metadata": {},
   "outputs": [],
   "source": [
    "merged_df = merged_df[['itemname', 'entpname', 'efcyqesitm', 'usemethodqesitm', 'atpnqesitm',\n",
    "       'itemseq', '주성분', 'ATC코드']]\n",
    "\n",
    "merged_df.rename(columns={'주성분': 'ingredient', 'ATC코드':'atc_cd'}, inplace=True)"
   ]
  },
  {
   "cell_type": "code",
   "execution_count": 9,
   "metadata": {},
   "outputs": [],
   "source": [
    "label_df = pd.read_pickle(\"data/label_df.pickle\")\n",
    "label_mapper = pd.read_pickle(\"data/label_mapper.pickle\")"
   ]
  },
  {
   "cell_type": "code",
   "execution_count": 10,
   "metadata": {},
   "outputs": [
    {
     "name": "stdout",
     "output_type": "stream",
     "text": [
      "4.286% of data is duplicated\n"
     ]
    }
   ],
   "source": [
    "dup_cnt = 0\n",
    "cls_cd_dict = dict()\n",
    "\n",
    "mat = label_df[['atc_cd', 'cls_code_num']].values\n",
    "for idx in range(mat.shape[0]) : \n",
    "    cd, num = mat[idx]\n",
    "    if cls_cd_dict.get(cd) is None : \n",
    "        cls_cd_dict[cd] = num\n",
    "    else : \n",
    "        if cls_cd_dict[cd] == num : \n",
    "            pass\n",
    "        else : \n",
    "#             print(\"key : {} | existing value : {} | new value : {}\".format(cd, cls_cd_dict[cd], num))\n",
    "            dup_cnt += 1\n",
    "            \n",
    "print(\"{}% of data is duplicated\".format(np.round(dup_cnt / float(len(mat)) * 100, 3)))"
   ]
  },
  {
   "cell_type": "code",
   "execution_count": 11,
   "metadata": {},
   "outputs": [],
   "source": [
    "merged_df['CLS_CODE'] = merged_df.atc_cd.map(lambda x : cls_cd_dict.get(x))\n",
    "label_df = merged_df[merged_df.CLS_CODE.notnull()].copy()\n",
    "label_df['CLS_NM'] = label_df.CLS_CODE.map(lambda x : label_mapper.get(x))\n",
    "label_df = label_df[label_df.CLS_NM.notnull()].copy()"
   ]
  },
  {
   "cell_type": "code",
   "execution_count": 12,
   "metadata": {},
   "outputs": [
    {
     "data": {
      "text/plain": [
       "해열·진통·소염제       729\n",
       "기타의 비타민제        456\n",
       "진통·진양·수렴·소염제    334\n",
       "기생성 피부질환용제       99\n",
       "정장제              94\n",
       "치과구강용약           94\n",
       "제산제              88\n",
       "항히스타민제           84\n",
       "안과용제             78\n",
       "건위소화제            75\n",
       "Name: CLS_NM, dtype: int64"
      ]
     },
     "execution_count": 12,
     "metadata": {},
     "output_type": "execute_result"
    }
   ],
   "source": [
    "label_df.CLS_NM.value_counts().head(10)"
   ]
  },
  {
   "cell_type": "code",
   "execution_count": 13,
   "metadata": {},
   "outputs": [
    {
     "name": "stderr",
     "output_type": "stream",
     "text": [
      "findfont: Font family ['Malgun Gothic'] not found. Falling back to DejaVu Sans.\n"
     ]
    },
    {
     "data": {
      "image/png": "[encoded data removed]",
      "text/plain": [
       "<Figure size 432x288 with 1 Axes>"
      ]
     },
     "metadata": {},
     "output_type": "display_data"
    }
   ],
   "source": [
    "count_df = label_df.CLS_NM.value_counts()\n",
    "plt.bar(range(len(count_df)), count_df.values)\n",
    "plt.show()"
   ]
  }
 ],
 "metadata": {
  "kernelspec": {
   "display_name": "Python 3",
   "language": "python",
   "name": "python3"
  },
  "language_info": {
   "codemirror_mode": {
    "name": "ipython",
    "version": 3
   },
   "file_extension": ".py",
   "mimetype": "text/x-python",
   "name": "python",
   "nbconvert_exporter": "python",
   "pygments_lexer": "ipython3",
   "version": "3.8.5"
  }
 },
 "nbformat": 4,
 "nbformat_minor": 4
}
