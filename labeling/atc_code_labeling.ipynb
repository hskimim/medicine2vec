{
 "cells": [
  {
   "cell_type": "markdown",
   "metadata": {},
   "source": [
    "referred https://m.blog.naver.com/PostView.naver?isHttpsRedirect=true&blogId=39954&logNo=50120700741"
   ]
  },
  {
   "cell_type": "code",
   "execution_count": 1,
   "metadata": {},
   "outputs": [],
   "source": [
    "from jupyterthemes import jtplot\n",
    "jtplot.style(theme='solarizedl', context='notebook', ticks=True, grid=False, figsize=(10, 6))"
   ]
  },
  {
   "cell_type": "code",
   "execution_count": 2,
   "metadata": {},
   "outputs": [],
   "source": [
    "from IPython.display import display, Markdown\n",
    "from tqdm.notebook import tqdm\n",
    "\n",
    "import random\n",
    "import requests\n",
    "import re\n",
    "from copy import copy\n",
    "from bs4 import BeautifulSoup\n",
    "\n",
    "import numpy as np\n",
    "import pandas as pd\n",
    "\n",
    "import seaborn as sns\n",
    "import matplotlib.pyplot as plt\n",
    "# !wget \"https://www.wfonts.com/download/data/2016/06/13/malgun-gothic/malgun.ttf\"\n",
    "plt.rc('font', family='Malgun Gothic') \n",
    "plt.rcParams['axes.unicode_minus'] = False\n",
    "\n",
    "from sklearn.preprocessing import normalize\n",
    "from nltk.tokenize import word_tokenize\n",
    "from sklearn.manifold import TSNE\n",
    "from sklearn.metrics.pairwise import cosine_similarity\n",
    "from sklearn.cluster import AgglomerativeClustering\n",
    "from gensim.models import Word2Vec, FastText"
   ]
  },
  {
   "cell_type": "code",
   "execution_count": 3,
   "metadata": {},
   "outputs": [],
   "source": [
    "import torch\n",
    "import torch.nn as nn\n",
    "import torch.optim as optim"
   ]
  },
  {
   "cell_type": "markdown",
   "metadata": {},
   "source": [
    "___"
   ]
  },
  {
   "cell_type": "markdown",
   "metadata": {},
   "source": [
    "## Load and Merge"
   ]
  },
  {
   "cell_type": "code",
   "execution_count": 5,
   "metadata": {},
   "outputs": [],
   "source": [
    "main_df = pd.read_pickle(\"../data/main_df.pickle\")"
   ]
  },
  {
   "cell_type": "code",
   "execution_count": 9,
   "metadata": {
    "scrolled": false
   },
   "outputs": [],
   "source": [
    "ingredient_df = pd.read_excel(\"../data/ingredient_table.xlsx\")\n",
    "ingredient_df = ingredient_df[['제품명', '업체명', '주성분', '품목기준코드', 'ATC코드']].copy()"
   ]
  },
  {
   "cell_type": "code",
   "execution_count": 10,
   "metadata": {},
   "outputs": [],
   "source": [
    "main_df['itemseq'] = main_df['itemseq'].astype(int)\n",
    "merged_df = pd.merge(main_df, ingredient_df, left_on='itemseq', right_on='품목기준코드')"
   ]
  },
  {
   "cell_type": "code",
   "execution_count": 11,
   "metadata": {},
   "outputs": [],
   "source": [
    "merged_df = merged_df[['itemname', 'entpname', 'efcyqesitm', 'usemethodqesitm', 'atpnqesitm',\n",
    "       'itemseq', '주성분', 'ATC코드']]\n",
    "\n",
    "merged_df.rename(columns={'주성분': 'ingredient', 'ATC코드':\"atc_cd\"}, inplace=True)\n",
    "merged_df = merged_df[merged_df.atc_cd.notnull()]"
   ]
  },
  {
   "cell_type": "code",
   "execution_count": 12,
   "metadata": {},
   "outputs": [],
   "source": [
    "def parse_atc(x) :     \n",
    "    \n",
    "    splitted = re.split('(\\d+)',x)\n",
    "    splitted = [s for s in splitted if s]\n",
    "\n",
    "    five_state_atc = list()\n",
    "    if len(splitted) >= 3 : \n",
    "        tmp = list()\n",
    "        for idx, v in enumerate(splitted) : \n",
    "            if idx == 2 : \n",
    "                if len(v) == 2 and v.isupper() : \n",
    "                    for s in v : \n",
    "                        tmp.append(s)\n",
    "            else : \n",
    "                tmp.append(v)\n",
    "        five_state_atc = tmp\n",
    "    else : \n",
    "        return splitted + ['<PAD>'] * (5-len(splitted))\n",
    "    \n",
    "    return five_state_atc + ['<PAD>'] * (5-len(five_state_atc))"
   ]
  },
  {
   "cell_type": "code",
   "execution_count": 13,
   "metadata": {},
   "outputs": [],
   "source": [
    "splitted_atc_cd = merged_df.atc_cd.map(parse_atc)\n",
    "code_matrix = np.vstack(splitted_atc_cd.values)"
   ]
  },
  {
   "cell_type": "code",
   "execution_count": 14,
   "metadata": {},
   "outputs": [],
   "source": [
    "def label_generator(mat, depth=0) : \n",
    "    arr = list()\n",
    "    for ls in code_matrix[:,:depth+1] : \n",
    "        tmp = ''\n",
    "        for i in ls : \n",
    "            tmp += i\n",
    "        arr.append(tmp)\n",
    "    arr = np.array(arr)\n",
    "    \n",
    "    mapper = {val:idx for idx,val in enumerate(np.unique(arr))}    \n",
    "    label = np.vectorize(lambda x : mapper.get(x))(arr)\n",
    "    return label, np.vectorize(lambda x : x.replace('<PAD>',''))(arr)"
   ]
  },
  {
   "cell_type": "code",
   "execution_count": 15,
   "metadata": {},
   "outputs": [],
   "source": [
    "l, a = label_generator(code_matrix, 3)"
   ]
  },
  {
   "cell_type": "code",
   "execution_count": 17,
   "metadata": {},
   "outputs": [
    {
     "data": {
      "text/plain": [
       "array([['D', '11', 'A', 'F', '<PAD>'],\n",
       "       ['A', '02', 'A', 'H', '<PAD>'],\n",
       "       ['V', '03', 'A', 'B', '32'],\n",
       "       ...,\n",
       "       ['R', '05', '<PAD>', '<PAD>', '<PAD>'],\n",
       "       ['A', '07', 'B', 'C', '05'],\n",
       "       ['A', '11', 'A', 'B', '<PAD>']], dtype='<U5')"
      ]
     },
     "execution_count": 17,
     "metadata": {},
     "output_type": "execute_result"
    }
   ],
   "source": [
    "code_matrix"
   ]
  }
 ],
 "metadata": {
  "kernelspec": {
   "display_name": "Python 3",
   "language": "python",
   "name": "python3"
  },
  "language_info": {
   "codemirror_mode": {
    "name": "ipython",
    "version": 3
   },
   "file_extension": ".py",
   "mimetype": "text/x-python",
   "name": "python",
   "nbconvert_exporter": "python",
   "pygments_lexer": "ipython3",
   "version": "3.8.5"
  }
 },
 "nbformat": 4,
 "nbformat_minor": 4
}
