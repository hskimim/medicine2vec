{
 "cells": [
  {
   "cell_type": "code",
   "execution_count": 1,
   "metadata": {},
   "outputs": [],
   "source": [
    "from jupyterthemes import jtplot\n",
    "jtplot.style(theme='solarizedl', context='notebook', ticks=True, grid=False, figsize=(10, 6))"
   ]
  },
  {
   "cell_type": "code",
   "execution_count": 2,
   "metadata": {},
   "outputs": [],
   "source": [
    "from IPython.display import display, Markdown\n",
    "from tqdm.notebook import tqdm\n",
    "\n",
    "import random\n",
    "import requests\n",
    "import re\n",
    "from copy import copy\n",
    "from bs4 import BeautifulSoup\n",
    "\n",
    "import numpy as np\n",
    "import pandas as pd\n",
    "\n",
    "import seaborn as sns\n",
    "import matplotlib.pyplot as plt\n",
    "\n",
    "from sklearn.preprocessing import normalize\n",
    "from nltk.tokenize import word_tokenize\n",
    "from sklearn.manifold import TSNE\n",
    "from sklearn.metrics.pairwise import cosine_similarity\n",
    "from sklearn.cluster import AgglomerativeClustering\n",
    "from gensim.models import Word2Vec, FastText"
   ]
  },
  {
   "cell_type": "code",
   "execution_count": 3,
   "metadata": {},
   "outputs": [],
   "source": [
    "import torch\n",
    "import torch.nn as nn\n",
    "import torch.optim as optim"
   ]
  },
  {
   "cell_type": "markdown",
   "metadata": {},
   "source": [
    "___"
   ]
  },
  {
   "cell_type": "markdown",
   "metadata": {},
   "source": [
    "## Load and Merge"
   ]
  },
  {
   "cell_type": "code",
   "execution_count": 4,
   "metadata": {},
   "outputs": [],
   "source": [
    "main_df = pd.read_pickle(\"data/main_df.pickle\")"
   ]
  },
  {
   "cell_type": "code",
   "execution_count": 5,
   "metadata": {
    "scrolled": false
   },
   "outputs": [],
   "source": [
    "ingredient_df = pd.read_excel(\"data/ingredient_table.xlsx\")\n",
    "ingredient_df = ingredient_df[['제품명', '업체명', '주성분', '품목기준코드']].copy()"
   ]
  },
  {
   "cell_type": "code",
   "execution_count": 6,
   "metadata": {},
   "outputs": [],
   "source": [
    "main_df['itemseq'] = main_df['itemseq'].astype(int)\n",
    "merged_df = pd.merge(main_df, ingredient_df, left_on='itemseq', right_on='품목기준코드')"
   ]
  },
  {
   "cell_type": "code",
   "execution_count": 7,
   "metadata": {},
   "outputs": [],
   "source": [
    "merged_df = merged_df[['itemname', 'entpname', 'efcyqesitm', 'usemethodqesitm', 'atpnqesitm',\n",
    "       'itemseq', '주성분']]\n",
    "\n",
    "merged_df.rename(columns={'주성분': 'ingredient'}, inplace=True)"
   ]
  },
  {
   "cell_type": "code",
   "execution_count": 8,
   "metadata": {},
   "outputs": [
    {
     "data": {
      "text/html": [
       "<div>\n",
       "<style scoped>\n",
       "    .dataframe tbody tr th:only-of-type {\n",
       "        vertical-align: middle;\n",
       "    }\n",
       "\n",
       "    .dataframe tbody tr th {\n",
       "        vertical-align: top;\n",
       "    }\n",
       "\n",
       "    .dataframe thead th {\n",
       "        text-align: right;\n",
       "    }\n",
       "</style>\n",
       "<table border=\"1\" class=\"dataframe\">\n",
       "  <thead>\n",
       "    <tr style=\"text-align: right;\">\n",
       "      <th></th>\n",
       "      <th>itemname</th>\n",
       "      <th>entpname</th>\n",
       "      <th>efcyqesitm</th>\n",
       "      <th>usemethodqesitm</th>\n",
       "      <th>atpnqesitm</th>\n",
       "      <th>itemseq</th>\n",
       "      <th>ingredient</th>\n",
       "    </tr>\n",
       "  </thead>\n",
       "  <tbody>\n",
       "    <tr>\n",
       "      <th>0</th>\n",
       "      <td>활명수</td>\n",
       "      <td>동화약품(주)</td>\n",
       "      <td>&lt;p&gt;이 약은 식욕감퇴(식욕부진), 위부팽만감, 소화불량, 과식, 체함, 구역, 구...</td>\n",
       "      <td>&lt;p&gt;만 15세 이상 및 성인은 1회 1병(75 mL), 만 11세이상~만 15세미...</td>\n",
       "      <td>&lt;p&gt;만 3개월 미만의 젖먹이는 이 약을 복용하지 마십시오.&lt;/p&gt;\\n\\n&lt;p&gt;이 ...</td>\n",
       "      <td>195700020</td>\n",
       "      <td>건강,육두구,후박,진피,창출,현호색,L-멘톨,육계,정향,아선약,고추틴크</td>\n",
       "    </tr>\n",
       "    <tr>\n",
       "      <th>1</th>\n",
       "      <td>신신티눈고(살리실산반창고)(수출명:SINSINCORNPLASTER)</td>\n",
       "      <td>신신제약(주)</td>\n",
       "      <td>&lt;p&gt;이 약은 티눈, 못(굳은살), 사마귀에 사용합니다. &lt;/p&gt;\\n</td>\n",
       "      <td>&lt;p&gt;이형지로부터 벗겨 이 약제면을 환부(질환 부위)에 대고 테이프로 고정하고 2~...</td>\n",
       "      <td>&lt;p&gt;이 약에 과민증 환자, 당뇨병, 혈액순환장애 환자는 이 약을 사용하지 마십시오...</td>\n",
       "      <td>195900034</td>\n",
       "      <td>살리실산</td>\n",
       "    </tr>\n",
       "    <tr>\n",
       "      <th>2</th>\n",
       "      <td>아네모정</td>\n",
       "      <td>삼진제약(주)</td>\n",
       "      <td>&lt;p&gt;이 약은 위산과다, 속쓰림, 위부불쾌감, 위부팽만감, 체함, 구역, 구토, 위...</td>\n",
       "      <td>&lt;p&gt;성인 1회 2정, 1일 3회 식간(식사와 식사때 사이) 및 취침시에 복용합니다...</td>\n",
       "      <td>&lt;p&gt;투석요법을 받고 있는 환자, 수유부, 만 7세 이하의 어린이, 갈락토오스 불내...</td>\n",
       "      <td>195900043</td>\n",
       "      <td>탄산마그네슘,탄산수소나트륨,침강탄산칼슘,건조수산화알루미늄겔,스코폴리아엑스10배산</td>\n",
       "    </tr>\n",
       "    <tr>\n",
       "      <th>3</th>\n",
       "      <td>타치온정50밀리그램(글루타티온(환원형))</td>\n",
       "      <td>동아제약(주)</td>\n",
       "      <td>&lt;p&gt;이 약은 약물중독, 자가중독에 사용합니다.&lt;/p&gt;</td>\n",
       "      <td>&lt;p&gt;성인은 1회 1~2정(50~100 mg), 1일 1~3회 복용합니다.&lt;/p&gt;&lt;...</td>\n",
       "      <td></td>\n",
       "      <td>197100015</td>\n",
       "      <td>글루타티온(환원형)</td>\n",
       "    </tr>\n",
       "    <tr>\n",
       "      <th>4</th>\n",
       "      <td>겔포스현탁액(인산알루미늄겔)</td>\n",
       "      <td>보령제약(주)</td>\n",
       "      <td>&lt;p&gt;이 약은 위.십이지장 궤양, 위염, 위산과다(속쓰림, 위통, 구역, 구토)의 ...</td>\n",
       "      <td>&lt;p&gt;성인은 1회 1포, 1일 3~4회 식간(식사때와 식사때 사이) 및 취침시 복용...</td>\n",
       "      <td>&lt;p&gt;이 약을 복용하기 전에 신장장애, 변비 환자는 의사 또는 약사와 상의하십시오....</td>\n",
       "      <td>197400207</td>\n",
       "      <td>콜로이드성인산알루미늄,인산알루미늄겔</td>\n",
       "    </tr>\n",
       "  </tbody>\n",
       "</table>\n",
       "</div>"
      ],
      "text/plain": [
       "                                itemname entpname  \\\n",
       "0                                    활명수  동화약품(주)   \n",
       "1  신신티눈고(살리실산반창고)(수출명:SINSINCORNPLASTER)  신신제약(주)   \n",
       "2                                   아네모정  삼진제약(주)   \n",
       "3                 타치온정50밀리그램(글루타티온(환원형))  동아제약(주)   \n",
       "4                        겔포스현탁액(인산알루미늄겔)  보령제약(주)   \n",
       "\n",
       "                                          efcyqesitm  \\\n",
       "0  <p>이 약은 식욕감퇴(식욕부진), 위부팽만감, 소화불량, 과식, 체함, 구역, 구...   \n",
       "1             <p>이 약은 티눈, 못(굳은살), 사마귀에 사용합니다. </p>\\n   \n",
       "2  <p>이 약은 위산과다, 속쓰림, 위부불쾌감, 위부팽만감, 체함, 구역, 구토, 위...   \n",
       "3                     <p>이 약은 약물중독, 자가중독에 사용합니다.</p>   \n",
       "4  <p>이 약은 위.십이지장 궤양, 위염, 위산과다(속쓰림, 위통, 구역, 구토)의 ...   \n",
       "\n",
       "                                     usemethodqesitm  \\\n",
       "0  <p>만 15세 이상 및 성인은 1회 1병(75 mL), 만 11세이상~만 15세미...   \n",
       "1  <p>이형지로부터 벗겨 이 약제면을 환부(질환 부위)에 대고 테이프로 고정하고 2~...   \n",
       "2  <p>성인 1회 2정, 1일 3회 식간(식사와 식사때 사이) 및 취침시에 복용합니다...   \n",
       "3  <p>성인은 1회 1~2정(50~100 mg), 1일 1~3회 복용합니다.</p><...   \n",
       "4  <p>성인은 1회 1포, 1일 3~4회 식간(식사때와 식사때 사이) 및 취침시 복용...   \n",
       "\n",
       "                                          atpnqesitm    itemseq  \\\n",
       "0  <p>만 3개월 미만의 젖먹이는 이 약을 복용하지 마십시오.</p>\\n\\n<p>이 ...  195700020   \n",
       "1  <p>이 약에 과민증 환자, 당뇨병, 혈액순환장애 환자는 이 약을 사용하지 마십시오...  195900034   \n",
       "2  <p>투석요법을 받고 있는 환자, 수유부, 만 7세 이하의 어린이, 갈락토오스 불내...  195900043   \n",
       "3                                                     197100015   \n",
       "4  <p>이 약을 복용하기 전에 신장장애, 변비 환자는 의사 또는 약사와 상의하십시오....  197400207   \n",
       "\n",
       "                                     ingredient  \n",
       "0       건강,육두구,후박,진피,창출,현호색,L-멘톨,육계,정향,아선약,고추틴크  \n",
       "1                                          살리실산  \n",
       "2  탄산마그네슘,탄산수소나트륨,침강탄산칼슘,건조수산화알루미늄겔,스코폴리아엑스10배산  \n",
       "3                                    글루타티온(환원형)  \n",
       "4                           콜로이드성인산알루미늄,인산알루미늄겔  "
      ]
     },
     "execution_count": 8,
     "metadata": {},
     "output_type": "execute_result"
    }
   ],
   "source": [
    "merged_df.head()"
   ]
  },
  {
   "cell_type": "markdown",
   "metadata": {},
   "source": [
    "___"
   ]
  },
  {
   "cell_type": "markdown",
   "metadata": {},
   "source": [
    "## Preprocess the feature"
   ]
  },
  {
   "cell_type": "code",
   "execution_count": 9,
   "metadata": {},
   "outputs": [],
   "source": [
    "def parser1(x) : \n",
    "    parsed = re.sub(\"\\<.{,5}\\>|\\n|\\xa0\",\"\",x)\n",
    "    parsed = parsed.replace(\"·\",',').replace(\"ㆍ\",',')\n",
    "    \n",
    "    for _ in range(3) : \n",
    "        parsed = parser2(parsed)\n",
    "        \n",
    "    return re.sub(\"이 약은\\s*|에 사용합니다.\", '', parsed)\n",
    "\n",
    "def parser2(data) : \n",
    "    return re.sub('\\([\\w\\s\\,]+\\)','', data)\n",
    "\n",
    "def symptom_parse(x) : \n",
    "    parsed = parser1(x)\n",
    "    parsed = re.sub(\"([A-Z]{1}[1-9]{,1})\\,\", r'\\g<1> &', parsed)\n",
    "    parsed = parsed.replace(\"(\",'').replace(\")\",'')\n",
    "    return parsed"
   ]
  },
  {
   "cell_type": "code",
   "execution_count": 10,
   "metadata": {},
   "outputs": [],
   "source": [
    "merged_df['symptom'] = merged_df.efcyqesitm.copy().map(symptom_parse)\n",
    "merged_df['ingredient'] = merged_df.copy().ingredient.map(parser2).str.replace(\" \",'')\n",
    "\n",
    "prep_caution = list(map(lambda x : re.sub(\"\\<.{,5}\\>|\\n|\\xa0\",\"\",x), merged_df.atpnqesitm.copy()))\n",
    "prep_caution = list(map(lambda x : re.sub('[^가-힣\\s0-9]',' ', x), prep_caution))\n",
    "merged_df['caution'] = prep_caution\n",
    "\n",
    "prep_df = merged_df[['itemname', 'entpname', 'ingredient', 'symptom', 'caution']].copy()"
   ]
  },
  {
   "cell_type": "code",
   "execution_count": 11,
   "metadata": {},
   "outputs": [
    {
     "data": {
      "text/plain": [
       "((4214, 8), (4470, 8))"
      ]
     },
     "execution_count": 11,
     "metadata": {},
     "output_type": "execute_result"
    }
   ],
   "source": [
    "prep_df['splitted_ingredient'] = prep_df.ingredient.str.split(\",\")\n",
    "prep_df['splitted_symptom'] = prep_df.symptom.str.split(\",\").map(lambda x : list(map(lambda i : i.strip(), x)))\n",
    "prep_df['tokenized_caution'] = list(map(lambda x : word_tokenize(x), prep_caution))\n",
    "\n",
    "train_df = prep_df.drop_duplicates(['entpname', 'ingredient', 'symptom'])\n",
    "train_df.shape, prep_df.shape"
   ]
  },
  {
   "cell_type": "code",
   "execution_count": 12,
   "metadata": {},
   "outputs": [
    {
     "data": {
      "application/vnd.jupyter.widget-view+json": {
       "model_id": "c49dbb39a04141a2be0c990a9b6a50dc",
       "version_major": 2,
       "version_minor": 0
      },
      "text/plain": [
       "  0%|          | 0/4214 [00:00<?, ?it/s]"
      ]
     },
     "metadata": {},
     "output_type": "display_data"
    },
    {
     "data": {
      "text/plain": [
       "(123847, 2)"
      ]
     },
     "execution_count": 12,
     "metadata": {},
     "output_type": "execute_result"
    }
   ],
   "source": [
    "mem = list()\n",
    "\n",
    "for row in tqdm(train_df[['splitted_ingredient', 'splitted_symptom']].values) : \n",
    "    tmp = list()\n",
    "    for i in row[0] : \n",
    "        for j in row[1] : \n",
    "            tmp.append([i,j])            \n",
    "    mat = np.array(tmp)\n",
    "    mem.append(mat)\n",
    "    \n",
    "data = np.vstack(mem)\n",
    "data.shape"
   ]
  },
  {
   "cell_type": "markdown",
   "metadata": {},
   "source": [
    "___"
   ]
  },
  {
   "cell_type": "markdown",
   "metadata": {},
   "source": [
    "## Train the model\n",
    "- pre-train the individual feature using fast-text\n",
    "- learn projection model name Ingre2Symp model using skip-gram similar logic"
   ]
  },
  {
   "cell_type": "markdown",
   "metadata": {},
   "source": [
    "1. pretrain"
   ]
  },
  {
   "cell_type": "code",
   "execution_count": 13,
   "metadata": {},
   "outputs": [
    {
     "name": "stdout",
     "output_type": "stream",
     "text": [
      "CPU times: user 0 ns, sys: 0 ns, total: 0 ns\n",
      "Wall time: 28.6 µs\n"
     ]
    }
   ],
   "source": [
    "%%time\n",
    "\n",
    "def augmentation(series, iters=5) : \n",
    "    mem = list()\n",
    "    for _ in range(iters) : \n",
    "        tmp = series.map(lambda x : sorted(x, key=lambda k: random.random()))\n",
    "        mem.append(tmp)\n",
    "    train = pd.concat(mem, ignore_index=True)\n",
    "    return train"
   ]
  },
  {
   "cell_type": "code",
   "execution_count": 14,
   "metadata": {},
   "outputs": [],
   "source": [
    "symptom_w2v = FastText(augmentation(train_df.splitted_symptom).tolist(), vector_size=20, epochs=5*2)\n",
    "ingre_w2v = FastText(augmentation(train_df.splitted_ingredient).tolist(), vector_size=20, epochs=5*2)\n",
    "caut_w2v = FastText(train_df.tokenized_caution.tolist(), vector_size=50, epochs=5*1)"
   ]
  },
  {
   "cell_type": "markdown",
   "metadata": {},
   "source": [
    "2. Indexing to train the torch model"
   ]
  },
  {
   "cell_type": "code",
   "execution_count": 15,
   "metadata": {},
   "outputs": [],
   "source": [
    "ingre_lemma_dict = {val:idx for idx, val in enumerate(ingre_w2v.wv.index_to_key)}\n",
    "symp_lemma_dict = {val:idx for idx, val in enumerate(symptom_w2v.wv.index_to_key)}\n",
    "\n",
    "indexed = np.stack([list(map(lambda x : ingre_lemma_dict.get(x), data[:,0])), list(map(lambda x : symp_lemma_dict.get(x), data[:,1]))]).T\n",
    "indexed = indexed[np.isfinite(indexed).all(1)]\n",
    "np.random.shuffle(indexed)"
   ]
  },
  {
   "cell_type": "code",
   "execution_count": 16,
   "metadata": {},
   "outputs": [],
   "source": [
    "ingre_emb = np.random.random(size=(len(ingre_lemma_dict), ingre_w2v.wv.vector_size))\n",
    "symp_emb = np.random.random(size=(len(symp_lemma_dict), symptom_w2v.wv.vector_size))\n",
    "\n",
    "for word, wi in ingre_lemma_dict.items() : \n",
    "    ingre_emb[wi] = ingre_w2v.wv.get_vector(word)\n",
    "    \n",
    "for word, wi in symp_lemma_dict.items() : \n",
    "    symp_emb[wi] = symptom_w2v.wv.get_vector(word)\n",
    "    \n",
    "ingre_emb = torch.tensor(ingre_emb)\n",
    "symp_emb = torch.tensor(symp_emb)"
   ]
  },
  {
   "cell_type": "markdown",
   "metadata": {},
   "source": [
    "3. modeling"
   ]
  },
  {
   "cell_type": "markdown",
   "metadata": {},
   "source": [
    "### simple linear projection layer\n",
    "- 논문 참조 : [Exploiting Similarities among Languages for Machine Translation](https://arxiv.org/pdf/1309.4168.pdf)\n",
    "- ingredient 와 symptom feature 는 서로를 label 로 사용될 수 있기 때문에 각 vector space 를 projection 을 통해 communicate 하게 만든다. 이는 dictionary form 의 bi-lingual word embedding 학습과 유사한 form 으로 해석될 수 있다.\n",
    "- 논문에서는 projection layer $W_{L}$ 만 학습하는데 그 이유는 개별 embedding vector 가 well pre-trained 되었다고 가정하기 때문이다. 난 projection layer 를 사용하는 것이 아닌, 더 나은 embedding 을 학습하길 바라므로, 각 embedding layer 까지 학습에 포함시킨다. "
   ]
  },
  {
   "cell_type": "code",
   "execution_count": 17,
   "metadata": {},
   "outputs": [],
   "source": [
    "class Ingre2Symp(nn.Module) : \n",
    "    def __init__(self, ingre_vocab_size, symp_vocab_size, hidden_dim, ingre_pretrained=None, symp_pretrained=None) :\n",
    "        super().__init__()\n",
    "        \n",
    "        if ingre_pretrained is not None :\n",
    "            self.encoder1 = nn.Embedding.from_pretrained(ingre_pretrained, freeze=False)\n",
    "        else : \n",
    "            self.encoder1 = nn.Embedding(ingre_vocab_size, hidden_dim)\n",
    "        if symp_pretrained is not None: \n",
    "            self.encoder2 = nn.Embedding.from_pretrained(symp_pretrained, freeze=False)\n",
    "        else : \n",
    "            self.encoder2 = nn.Embedding(symp_vocab_size, hidden_dim)\n",
    "            \n",
    "        self.fc = nn.Linear(hidden_dim, hidden_dim)\n",
    "\n",
    "    def forward(self, src, trg) : \n",
    "        encoded1 = self.fc(self.encoder1(src).type(torch.FloatTensor))\n",
    "        encoded2 = self.encoder2(trg)\n",
    "        return encoded1, encoded2"
   ]
  },
  {
   "cell_type": "code",
   "execution_count": 18,
   "metadata": {},
   "outputs": [
    {
     "data": {
      "application/vnd.jupyter.widget-view+json": {
       "model_id": "7e8b2b7850fb41cab04ee63789624716",
       "version_major": 2,
       "version_minor": 0
      },
      "text/plain": [
       "  0%|          | 0/10 [00:00<?, ?it/s]"
      ]
     },
     "metadata": {},
     "output_type": "display_data"
    }
   ],
   "source": [
    "net = Ingre2Symp(ingre_vocab_size=len(ingre_lemma_dict),\n",
    "          symp_vocab_size=len(symp_lemma_dict),\n",
    "           hidden_dim=ingre_w2v.wv.vector_size,\n",
    "           ingre_pretrained=ingre_emb,\n",
    "           symp_pretrained=symp_emb)\n",
    "\n",
    "criterion = nn.MSELoss()\n",
    "optimizer = optim.Adam(net.parameters())\n",
    "\n",
    "epoch = 10\n",
    "batch_size = 100\n",
    "\n",
    "pretrained_losses = list()\n",
    "\n",
    "for proc in tqdm(range(epoch)) : \n",
    "    \n",
    "    np.random.shuffle(indexed)\n",
    "    \n",
    "    batch_losses = list()\n",
    "    for batch_idx in range(batch_size, indexed.shape[0], batch_size) : \n",
    "\n",
    "        start_idx = batch_idx-batch_size\n",
    "        end_idx = batch_idx\n",
    "\n",
    "        src = torch.tensor(indexed[start_idx:end_idx,0])\n",
    "        trg = torch.tensor(indexed[start_idx:end_idx,1])\n",
    "        \n",
    "        e1 ,e2 = net(src, trg)\n",
    "\n",
    "        optimizer.zero_grad()\n",
    "        loss = criterion(e1, e2.type(torch.FloatTensor))\n",
    "        loss.backward()\n",
    "        optimizer.step()\n",
    "        \n",
    "        batch_losses.append(loss.item())\n",
    "    pretrained_losses.append(np.mean(batch_losses))"
   ]
  },
  {
   "cell_type": "code",
   "execution_count": 19,
   "metadata": {},
   "outputs": [
    {
     "data": {
      "image/png": "[encoded data removed]",
      "text/plain": [
       "<Figure size 432x288 with 1 Axes>"
      ]
     },
     "metadata": {},
     "output_type": "display_data"
    }
   ],
   "source": [
    "plt.title(\"Train loss through epoch\")\n",
    "plt.plot(pretrained_losses, label='fasttext-pretrained')\n",
    "\n",
    "plt.legend()\n",
    "plt.grid()\n",
    "plt.show()"
   ]
  },
  {
   "cell_type": "markdown",
   "metadata": {},
   "source": [
    "____"
   ]
  },
  {
   "cell_type": "code",
   "execution_count": 21,
   "metadata": {},
   "outputs": [],
   "source": [
    "finetuned_ingre_vec = net.encoder1.weight.data.numpy()\n",
    "projected_finetuned_ingre_vec = net.fc(net.encoder1.weight.type(torch.FloatTensor)).data.numpy()\n",
    "finetuned_symp_vec = net.encoder2.weight.data.numpy()"
   ]
  },
  {
   "cell_type": "markdown",
   "metadata": {},
   "source": [
    "_____"
   ]
  },
  {
   "cell_type": "markdown",
   "metadata": {},
   "source": [
    "## Merge vector to build medicine vector"
   ]
  },
  {
   "cell_type": "code",
   "execution_count": 22,
   "metadata": {},
   "outputs": [
    {
     "data": {
      "application/vnd.jupyter.widget-view+json": {
       "model_id": "36ee9c5c3da44d3e890bcf267746994c",
       "version_major": 2,
       "version_minor": 0
      },
      "text/plain": [
       "  0%|          | 0/4470 [00:00<?, ?it/s]"
      ]
     },
     "metadata": {},
     "output_type": "display_data"
    }
   ],
   "source": [
    "symptom_vector = np.full(shape=(prep_df.shape[0], symptom_w2v.wv.vector_size), fill_value=np.nan)\n",
    "\n",
    "for idx, ls in tqdm(enumerate(prep_df.splitted_symptom.values), total=len(prep_df)) : \n",
    "    wc = 0\n",
    "    vector = np.zeros(shape=(symptom_w2v.wv.vector_size,))\n",
    "    \n",
    "    for word in ls : \n",
    "        wi = symp_lemma_dict.get(word)\n",
    "        if wi is not None : \n",
    "            wv = finetuned_symp_vec[wi]\n",
    "        else : \n",
    "            continue\n",
    "        wc += 1\n",
    "        vector += wv\n",
    "    vector /= wc\n",
    "    symptom_vector[idx] = vector"
   ]
  },
  {
   "cell_type": "code",
   "execution_count": 23,
   "metadata": {},
   "outputs": [
    {
     "data": {
      "application/vnd.jupyter.widget-view+json": {
       "model_id": "737b4133b85f4b49960cad16d6542b2e",
       "version_major": 2,
       "version_minor": 0
      },
      "text/plain": [
       "  0%|          | 0/4470 [00:00<?, ?it/s]"
      ]
     },
     "metadata": {},
     "output_type": "display_data"
    }
   ],
   "source": [
    "ingredient_vector = np.full(shape=(prep_df.shape[0], ingre_w2v.wv.vector_size), fill_value=np.nan)\n",
    "\n",
    "for idx, ls in tqdm(enumerate(prep_df.splitted_ingredient.values), total=len(prep_df)) : \n",
    "    wc = 0\n",
    "    vector = np.zeros(shape=(ingre_w2v.wv.vector_size,))\n",
    "\n",
    "    for word in ls : \n",
    "        wi = ingre_lemma_dict.get(word)\n",
    "        if wi is not None : \n",
    "            wv = projected_finetuned_ingre_vec[wi]\n",
    "        else : \n",
    "            continue\n",
    "#         wv = symptom_w2v.wv.get_vector(word)\n",
    "        wc += 1\n",
    "        vector += wv\n",
    "    vector /= wc\n",
    "    ingredient_vector[idx] = vector"
   ]
  },
  {
   "cell_type": "code",
   "execution_count": 24,
   "metadata": {},
   "outputs": [
    {
     "data": {
      "application/vnd.jupyter.widget-view+json": {
       "model_id": "ea5346971fd241ffb2da5073238f36f6",
       "version_major": 2,
       "version_minor": 0
      },
      "text/plain": [
       "  0%|          | 0/4470 [00:00<?, ?it/s]"
      ]
     },
     "metadata": {},
     "output_type": "display_data"
    },
    {
     "name": "stdout",
     "output_type": "stream",
     "text": [
      "There was no word at 3th row!\n",
      "There was no word at 18th row!\n",
      "There was no word at 105th row!\n",
      "There was no word at 124th row!\n",
      "There was no word at 134th row!\n",
      "There was no word at 135th row!\n",
      "There was no word at 3094th row!\n",
      "There was no word at 3270th row!\n"
     ]
    }
   ],
   "source": [
    "caution_vector = np.full(shape=(prep_df.shape[0], caut_w2v.wv.vector_size), fill_value=0.)\n",
    "\n",
    "for idx, ls in tqdm(enumerate(prep_df.tokenized_caution.values), total=len(prep_df)) : \n",
    "    wc = 0\n",
    "    vector = np.zeros(shape=(caut_w2v.wv.vector_size,))\n",
    "    \n",
    "    for word in ls : \n",
    "        wv = caut_w2v.wv.get_vector(word)\n",
    "        wc += 1\n",
    "        vector += wv\n",
    "    if wc == 0 :\n",
    "        print(\"There was no word at {}th row!\".format(idx))\n",
    "    else : \n",
    "        vector /= wc\n",
    "        caution_vector[idx] = vector"
   ]
  },
  {
   "cell_type": "markdown",
   "metadata": {},
   "source": [
    "___"
   ]
  },
  {
   "cell_type": "markdown",
   "metadata": {},
   "source": [
    "## Vector Stats check before concatenate"
   ]
  },
  {
   "cell_type": "code",
   "execution_count": 25,
   "metadata": {},
   "outputs": [
    {
     "data": {
      "image/png": "[encoded data removed]",
      "text/plain": [
       "<Figure size 432x288 with 1 Axes>"
      ]
     },
     "metadata": {},
     "output_type": "display_data"
    }
   ],
   "source": [
    "plt.title(\"Vector Norm check (axis=1)\")\n",
    "sns.histplot(np.linalg.norm(symptom_vector, axis=1), label='symptom', stat='density', color='red', alpha=0.5, kde=True)\n",
    "sns.histplot(np.linalg.norm(caution_vector, axis=1), label='caution', stat='density', color='green', alpha=0.5, kde=True)\n",
    "sns.histplot(np.linalg.norm(ingredient_vector, axis=1), label='ingredient', stat='density', color='blue', alpha=0.5, kde=True)\n",
    "\n",
    "plt.legend()\n",
    "plt.show()"
   ]
  },
  {
   "cell_type": "code",
   "execution_count": 26,
   "metadata": {},
   "outputs": [
    {
     "data": {
      "image/png": "[encoded data removed]",
      "text/plain": [
       "<Figure size 432x288 with 1 Axes>"
      ]
     },
     "metadata": {},
     "output_type": "display_data"
    }
   ],
   "source": [
    "plt.title(\"Feature std check (axis=0)\")\n",
    "\n",
    "sns.histplot(np.std(symptom_vector, axis=0), label='symptom', stat='density', color='red', alpha=0.5, kde=True)\n",
    "sns.histplot(np.std(caution_vector, axis=0), label='caution', stat='density', color='green', alpha=0.5, kde=True)\n",
    "sns.histplot(np.std(ingredient_vector, axis=0), label='ingredient', stat='density', color='blue', alpha=0.5, kde=True)\n",
    "\n",
    "plt.legend()\n",
    "plt.show()"
   ]
  },
  {
   "cell_type": "code",
   "execution_count": 27,
   "metadata": {},
   "outputs": [
    {
     "data": {
      "image/png": "[encoded data removed]",
      "text/plain": [
       "<Figure size 432x288 with 2 Axes>"
      ]
     },
     "metadata": {},
     "output_type": "display_data"
    },
    {
     "data": {
      "image/png": "[encoded data removed]",
      "text/plain": [
       "<Figure size 432x288 with 1 Axes>"
      ]
     },
     "metadata": {},
     "output_type": "display_data"
    }
   ],
   "source": [
    "cossim_mat = cosine_similarity(np.hstack([normalize(symptom_vector), normalize(ingredient_vector), normalize(caution_vector)]).T)\n",
    "\n",
    "plt.title(\"Cosine Similarity Matrix of concated matrix\")\n",
    "plt.pcolor(cossim_mat)\n",
    "plt.colorbar()\n",
    "plt.show()\n",
    "\n",
    "plt.title(\"Cosine Similarity Distribution of concated matrix\")\n",
    "cossim_mat[np.tril_indices_from(cossim_mat)] = np.nan\n",
    "sns.histplot(cossim_mat[np.isfinite(cossim_mat)], kde=True, color='green')\n",
    "plt.show()"
   ]
  },
  {
   "cell_type": "markdown",
   "metadata": {},
   "source": [
    "___"
   ]
  },
  {
   "cell_type": "markdown",
   "metadata": {},
   "source": [
    "# Concat & Cluster"
   ]
  },
  {
   "cell_type": "code",
   "execution_count": 28,
   "metadata": {},
   "outputs": [],
   "source": [
    "stacked_vector = np.hstack([normalize(symptom_vector),\n",
    "                            normalize(ingredient_vector), normalize(caution_vector)])"
   ]
  },
  {
   "cell_type": "code",
   "execution_count": 29,
   "metadata": {},
   "outputs": [
    {
     "data": {
      "text/plain": [
       "11"
      ]
     },
     "execution_count": 29,
     "metadata": {},
     "output_type": "execute_result"
    }
   ],
   "source": [
    "U, S, Vt = np.linalg.svd(stacked_vector-np.mean(stacked_vector, 0))\n",
    "\n",
    "cumul_var_ratio = np.cumsum((S**2)/np.sum(S**2))\n",
    "truncate_idx = np.where(cumul_var_ratio > 0.9)[0].min()\n",
    "truncate_idx"
   ]
  },
  {
   "cell_type": "code",
   "execution_count": 30,
   "metadata": {},
   "outputs": [],
   "source": [
    "reduced_emb = np.dot(stacked_vector - np.mean(stacked_vector, 0), Vt[:truncate_idx].T)"
   ]
  },
  {
   "cell_type": "code",
   "execution_count": 31,
   "metadata": {},
   "outputs": [],
   "source": [
    "ncl = 1000 # determined by silhouette score\n",
    "label = AgglomerativeClustering(ncl).fit_predict(normalize(reduced_emb))"
   ]
  },
  {
   "cell_type": "code",
   "execution_count": 32,
   "metadata": {},
   "outputs": [
    {
     "data": {
      "image/png": "[encoded data removed]",
      "text/plain": [
       "<Figure size 432x288 with 1 Axes>"
      ]
     },
     "metadata": {},
     "output_type": "display_data"
    }
   ],
   "source": [
    "tsne_emb = TSNE(2).fit_transform(reduced_emb)\n",
    "\n",
    "plt.title(\"TSNE visualization\")\n",
    "plt.scatter(tsne_emb[:,0], tsne_emb[:,1])\n",
    "plt.grid()\n",
    "plt.show()"
   ]
  },
  {
   "cell_type": "code",
   "execution_count": 33,
   "metadata": {},
   "outputs": [],
   "source": [
    "def calc_cossim_arr(x) : \n",
    "    cossim_arr = cosine_similarity(x)\n",
    "    cossim_arr[np.tril_indices_from(cossim_arr)] = np.nan\n",
    "    return np.nanmean(cossim_arr)"
   ]
  },
  {
   "cell_type": "code",
   "execution_count": 34,
   "metadata": {
    "scrolled": true
   },
   "outputs": [
    {
     "data": {
      "text/html": [
       "<div>\n",
       "<style scoped>\n",
       "    .dataframe tbody tr th:only-of-type {\n",
       "        vertical-align: middle;\n",
       "    }\n",
       "\n",
       "    .dataframe tbody tr th {\n",
       "        vertical-align: top;\n",
       "    }\n",
       "\n",
       "    .dataframe thead th {\n",
       "        text-align: right;\n",
       "    }\n",
       "</style>\n",
       "<table border=\"1\" class=\"dataframe\">\n",
       "  <thead>\n",
       "    <tr style=\"text-align: right;\">\n",
       "      <th></th>\n",
       "      <th>itemname</th>\n",
       "      <th>entpname</th>\n",
       "      <th>ingredient</th>\n",
       "      <th>symptom</th>\n",
       "      <th>caution</th>\n",
       "    </tr>\n",
       "  </thead>\n",
       "  <tbody>\n",
       "    <tr>\n",
       "      <th>1693</th>\n",
       "      <td>마그스포르테액</td>\n",
       "      <td>조아제약(주)</td>\n",
       "      <td>글리세로인산마그네슘,피리독신염산염</td>\n",
       "      <td>임신,수유기, 병중,병후의 체력 저하 시 비타민 B6의 보급과 구각염, 구순염, 구...</td>\n",
       "      <td>이 약에 과민증 환자  만 12개월 미만의 젖먹이  심한 증상의 신부전 환자는이 약...</td>\n",
       "    </tr>\n",
       "    <tr>\n",
       "      <th>3129</th>\n",
       "      <td>마그스파워액</td>\n",
       "      <td>조아제약(주)</td>\n",
       "      <td>글리세로인산마그네슘,피리독신염산염</td>\n",
       "      <td>임신,수유기, 병중,병후의 체력 저하 시 비타민 B6의 보급과 마그네슘결핍으로 인한...</td>\n",
       "      <td>이 약에 과민증 환자 만 12개월 미만의 젖먹이  심한 증상의 심부전 환자는 이 약...</td>\n",
       "    </tr>\n",
       "    <tr>\n",
       "      <th>3402</th>\n",
       "      <td>광동벤포파워액</td>\n",
       "      <td>광동제약(주)</td>\n",
       "      <td>니코틴산아미드,피리독신염산염,우르소데옥시콜산,리보플라빈,산화아연,벤포티아민</td>\n",
       "      <td>육체피로, 임신,수유기, 병중,병후의 체력 저하 시 비타민 B1 &amp; B2 &amp; B6의...</td>\n",
       "      <td>이 약에 과민증 환자  만 12개월 미만의 젖먹이  페닐케톤뇨증 환자는 이 약을 복...</td>\n",
       "    </tr>\n",
       "  </tbody>\n",
       "</table>\n",
       "</div>"
      ],
      "text/plain": [
       "      itemname entpname                                 ingredient  \\\n",
       "1693  마그스포르테액   조아제약(주)                         글리세로인산마그네슘,피리독신염산염   \n",
       "3129    마그스파워액  조아제약(주)                         글리세로인산마그네슘,피리독신염산염   \n",
       "3402   광동벤포파워액  광동제약(주)  니코틴산아미드,피리독신염산염,우르소데옥시콜산,리보플라빈,산화아연,벤포티아민   \n",
       "\n",
       "                                                symptom  \\\n",
       "1693  임신,수유기, 병중,병후의 체력 저하 시 비타민 B6의 보급과 구각염, 구순염, 구...   \n",
       "3129  임신,수유기, 병중,병후의 체력 저하 시 비타민 B6의 보급과 마그네슘결핍으로 인한...   \n",
       "3402  육체피로, 임신,수유기, 병중,병후의 체력 저하 시 비타민 B1 & B2 & B6의...   \n",
       "\n",
       "                                                caution  \n",
       "1693  이 약에 과민증 환자  만 12개월 미만의 젖먹이  심한 증상의 신부전 환자는이 약...  \n",
       "3129  이 약에 과민증 환자 만 12개월 미만의 젖먹이  심한 증상의 심부전 환자는 이 약...  \n",
       "3402  이 약에 과민증 환자  만 12개월 미만의 젖먹이  페닐케톤뇨증 환자는 이 약을 복...  "
      ]
     },
     "metadata": {},
     "output_type": "display_data"
    },
    {
     "data": {
      "text/markdown": [
       "_________"
      ],
      "text/plain": [
       "<IPython.core.display.Markdown object>"
      ]
     },
     "metadata": {},
     "output_type": "display_data"
    },
    {
     "data": {
      "text/html": [
       "<div>\n",
       "<style scoped>\n",
       "    .dataframe tbody tr th:only-of-type {\n",
       "        vertical-align: middle;\n",
       "    }\n",
       "\n",
       "    .dataframe tbody tr th {\n",
       "        vertical-align: top;\n",
       "    }\n",
       "\n",
       "    .dataframe thead th {\n",
       "        text-align: right;\n",
       "    }\n",
       "</style>\n",
       "<table border=\"1\" class=\"dataframe\">\n",
       "  <thead>\n",
       "    <tr style=\"text-align: right;\">\n",
       "      <th></th>\n",
       "      <th>itemname</th>\n",
       "      <th>entpname</th>\n",
       "      <th>ingredient</th>\n",
       "      <th>symptom</th>\n",
       "      <th>caution</th>\n",
       "    </tr>\n",
       "  </thead>\n",
       "  <tbody>\n",
       "    <tr>\n",
       "      <th>294</th>\n",
       "      <td>복합엘씨500연질캡슐(수출명:MEGA-NAMIC)</td>\n",
       "      <td>구주제약(주)</td>\n",
       "      <td>L-시스틴,콜린타르타르산염</td>\n",
       "      <td>간기능 저하로 인한 소화불량의 보조치료</td>\n",
       "      <td>대두유  콩  땅콩에 과민증 환자 또는 경험자  중증의 간세포기능부전이나 담도폐색 ...</td>\n",
       "    </tr>\n",
       "    <tr>\n",
       "      <th>468</th>\n",
       "      <td>헤파엘연질캡슐</td>\n",
       "      <td>코오롱제약(주)</td>\n",
       "      <td>L-시스틴,콜린타르타르산염</td>\n",
       "      <td>간기능 저하로 인한 소화불량의 보조치료</td>\n",
       "      <td>중증의 간세포기능부전이나 담도폐색 환자는 이 약을 복용하지 마십시오 이 약을 복용하...</td>\n",
       "    </tr>\n",
       "    <tr>\n",
       "      <th>506</th>\n",
       "      <td>씨씨콤연질캡슐(수출명 : Biosliver Soft Cap.)</td>\n",
       "      <td>한국코러스(주)</td>\n",
       "      <td>L-시스틴,콜린타르타르산염</td>\n",
       "      <td>간기능 저하로 인한 소화불량의 보조치료</td>\n",
       "      <td>중증의 간세포기능부전이나 담도폐색 환자는 이 약을 복용하지 마십시오 이 약을 복용하...</td>\n",
       "    </tr>\n",
       "  </tbody>\n",
       "</table>\n",
       "</div>"
      ],
      "text/plain": [
       "                               itemname  entpname      ingredient  \\\n",
       "294         복합엘씨500연질캡슐(수출명:MEGA-NAMIC)   구주제약(주)  L-시스틴,콜린타르타르산염   \n",
       "468                             헤파엘연질캡슐  코오롱제약(주)  L-시스틴,콜린타르타르산염   \n",
       "506  씨씨콤연질캡슐(수출명 : Biosliver Soft Cap.)  한국코러스(주)  L-시스틴,콜린타르타르산염   \n",
       "\n",
       "                   symptom                                            caution  \n",
       "294  간기능 저하로 인한 소화불량의 보조치료  대두유  콩  땅콩에 과민증 환자 또는 경험자  중증의 간세포기능부전이나 담도폐색 ...  \n",
       "468  간기능 저하로 인한 소화불량의 보조치료  중증의 간세포기능부전이나 담도폐색 환자는 이 약을 복용하지 마십시오 이 약을 복용하...  \n",
       "506  간기능 저하로 인한 소화불량의 보조치료  중증의 간세포기능부전이나 담도폐색 환자는 이 약을 복용하지 마십시오 이 약을 복용하...  "
      ]
     },
     "metadata": {},
     "output_type": "display_data"
    },
    {
     "data": {
      "text/markdown": [
       "_________"
      ],
      "text/plain": [
       "<IPython.core.display.Markdown object>"
      ]
     },
     "metadata": {},
     "output_type": "display_data"
    },
    {
     "data": {
      "text/html": [
       "<div>\n",
       "<style scoped>\n",
       "    .dataframe tbody tr th:only-of-type {\n",
       "        vertical-align: middle;\n",
       "    }\n",
       "\n",
       "    .dataframe tbody tr th {\n",
       "        vertical-align: top;\n",
       "    }\n",
       "\n",
       "    .dataframe thead th {\n",
       "        text-align: right;\n",
       "    }\n",
       "</style>\n",
       "<table border=\"1\" class=\"dataframe\">\n",
       "  <thead>\n",
       "    <tr style=\"text-align: right;\">\n",
       "      <th></th>\n",
       "      <th>itemname</th>\n",
       "      <th>entpname</th>\n",
       "      <th>ingredient</th>\n",
       "      <th>symptom</th>\n",
       "      <th>caution</th>\n",
       "    </tr>\n",
       "  </thead>\n",
       "  <tbody>\n",
       "    <tr>\n",
       "      <th>3173</th>\n",
       "      <td>로이코비에스액</td>\n",
       "      <td>고려제약(주)</td>\n",
       "      <td>니코틴산아미드,폴리네이트칼슘,피리독신염산염,리보플라빈포스페이트나트륨,덱스판테놀,시아...</td>\n",
       "      <td>거대적아구성 빈혈 치료 보조 또는 임신, 분만 후, 수유 시, 병후 회복기, 특정 ...</td>\n",
       "      <td>이 약에 과민증 환자  만 3개월 미만의 젖먹이  암 환자는 이 약을 복용하지 마십...</td>\n",
       "    </tr>\n",
       "    <tr>\n",
       "      <th>3351</th>\n",
       "      <td>액티넘이엑스골드정</td>\n",
       "      <td>한국다케다제약(주)</td>\n",
       "      <td>폴산,피리독살포스페이트수화물,d-α-토코페롤숙시네이트,푸르설티아민염산염,메코발라민,...</td>\n",
       "      <td>눈의 피로, 근육통,관절통, 신경통, 손발의 저림 증상의 완화</td>\n",
       "      <td>이 약에 과민증 환자  15세 미만의 소아는 이 약을 복용하지 마십시오 이 약을 복...</td>\n",
       "    </tr>\n",
       "  </tbody>\n",
       "</table>\n",
       "</div>"
      ],
      "text/plain": [
       "       itemname    entpname  \\\n",
       "3173    로이코비에스액     고려제약(주)   \n",
       "3351  액티넘이엑스골드정  한국다케다제약(주)   \n",
       "\n",
       "                                             ingredient  \\\n",
       "3173  니코틴산아미드,폴리네이트칼슘,피리독신염산염,리보플라빈포스페이트나트륨,덱스판테놀,시아...   \n",
       "3351  폴산,피리독살포스페이트수화물,d-α-토코페롤숙시네이트,푸르설티아민염산염,메코발라민,...   \n",
       "\n",
       "                                                symptom  \\\n",
       "3173  거대적아구성 빈혈 치료 보조 또는 임신, 분만 후, 수유 시, 병후 회복기, 특정 ...   \n",
       "3351                 눈의 피로, 근육통,관절통, 신경통, 손발의 저림 증상의 완화   \n",
       "\n",
       "                                                caution  \n",
       "3173  이 약에 과민증 환자  만 3개월 미만의 젖먹이  암 환자는 이 약을 복용하지 마십...  \n",
       "3351  이 약에 과민증 환자  15세 미만의 소아는 이 약을 복용하지 마십시오 이 약을 복...  "
      ]
     },
     "metadata": {},
     "output_type": "display_data"
    },
    {
     "data": {
      "text/markdown": [
       "_________"
      ],
      "text/plain": [
       "<IPython.core.display.Markdown object>"
      ]
     },
     "metadata": {},
     "output_type": "display_data"
    },
    {
     "data": {
      "text/html": [
       "<div>\n",
       "<style scoped>\n",
       "    .dataframe tbody tr th:only-of-type {\n",
       "        vertical-align: middle;\n",
       "    }\n",
       "\n",
       "    .dataframe tbody tr th {\n",
       "        vertical-align: top;\n",
       "    }\n",
       "\n",
       "    .dataframe thead th {\n",
       "        text-align: right;\n",
       "    }\n",
       "</style>\n",
       "<table border=\"1\" class=\"dataframe\">\n",
       "  <thead>\n",
       "    <tr style=\"text-align: right;\">\n",
       "      <th></th>\n",
       "      <th>itemname</th>\n",
       "      <th>entpname</th>\n",
       "      <th>ingredient</th>\n",
       "      <th>symptom</th>\n",
       "      <th>caution</th>\n",
       "    </tr>\n",
       "  </thead>\n",
       "  <tbody>\n",
       "    <tr>\n",
       "      <th>2566</th>\n",
       "      <td>메가트루골드정</td>\n",
       "      <td>(주)유한양행</td>\n",
       "      <td>니코틴산아미드,폴산,셀레늄함유건조효모,콘드로이틴설페이트나트륨,피리독신염산염,아스코르...</td>\n",
       "      <td>육체피로, 임신,수유기, 병중,병후의 체력 저하 시, 발육기, 노년기의 비타민 A ...</td>\n",
       "      <td>고칼슘혈증  유육종증  신장질환  이 약에 과민증 환자  만 12개월 미만의 젖먹이...</td>\n",
       "    </tr>\n",
       "    <tr>\n",
       "      <th>2866</th>\n",
       "      <td>아로나민실버프리미엄정</td>\n",
       "      <td>일동제약(주)</td>\n",
       "      <td>니코틴산아미드,폴산,시아노코발라민1000배산,셀레늄함유건조효모,무수인산수소칼슘,콘드...</td>\n",
       "      <td>육체피로, 임신,수유기, 병중,병후의 체력 저하 시, 발육기, 노년기의 비타민 A ...</td>\n",
       "      <td>고칼슘혈증  유육종증  신장질환  이 약에 과민증 환자  만 12개월 미만의 젖먹이...</td>\n",
       "    </tr>\n",
       "    <tr>\n",
       "      <th>3046</th>\n",
       "      <td>센티렉스실버어드밴스정</td>\n",
       "      <td>(주)글락소스미스클라인컨슈머헬스케어코리아</td>\n",
       "      <td>아스코르브산97%과립,폴산,무수인산수소칼슘,탄산칼슘95%과립,콜레칼시페롤혼합물,피리...</td>\n",
       "      <td>육체피로, 임신,수유기, 병중,병후의 체력 저하 시, 발육기, 노년기의 비타민의 보...</td>\n",
       "      <td>고칼슘혈증환자  유육종증  신장질환  이 약에 과민증 환자  만 12개월 미만의 젖...</td>\n",
       "    </tr>\n",
       "  </tbody>\n",
       "</table>\n",
       "</div>"
      ],
      "text/plain": [
       "         itemname                entpname  \\\n",
       "2566      메가트루골드정                 (주)유한양행   \n",
       "2866  아로나민실버프리미엄정                 일동제약(주)   \n",
       "3046  센티렉스실버어드밴스정  (주)글락소스미스클라인컨슈머헬스케어코리아   \n",
       "\n",
       "                                             ingredient  \\\n",
       "2566  니코틴산아미드,폴산,셀레늄함유건조효모,콘드로이틴설페이트나트륨,피리독신염산염,아스코르...   \n",
       "2866  니코틴산아미드,폴산,시아노코발라민1000배산,셀레늄함유건조효모,무수인산수소칼슘,콘드...   \n",
       "3046  아스코르브산97%과립,폴산,무수인산수소칼슘,탄산칼슘95%과립,콜레칼시페롤혼합물,피리...   \n",
       "\n",
       "                                                symptom  \\\n",
       "2566  육체피로, 임신,수유기, 병중,병후의 체력 저하 시, 발육기, 노년기의 비타민 A ...   \n",
       "2866  육체피로, 임신,수유기, 병중,병후의 체력 저하 시, 발육기, 노년기의 비타민 A ...   \n",
       "3046  육체피로, 임신,수유기, 병중,병후의 체력 저하 시, 발육기, 노년기의 비타민의 보...   \n",
       "\n",
       "                                                caution  \n",
       "2566  고칼슘혈증  유육종증  신장질환  이 약에 과민증 환자  만 12개월 미만의 젖먹이...  \n",
       "2866  고칼슘혈증  유육종증  신장질환  이 약에 과민증 환자  만 12개월 미만의 젖먹이...  \n",
       "3046  고칼슘혈증환자  유육종증  신장질환  이 약에 과민증 환자  만 12개월 미만의 젖...  "
      ]
     },
     "metadata": {},
     "output_type": "display_data"
    },
    {
     "data": {
      "text/markdown": [
       "_________"
      ],
      "text/plain": [
       "<IPython.core.display.Markdown object>"
      ]
     },
     "metadata": {},
     "output_type": "display_data"
    },
    {
     "data": {
      "text/html": [
       "<div>\n",
       "<style scoped>\n",
       "    .dataframe tbody tr th:only-of-type {\n",
       "        vertical-align: middle;\n",
       "    }\n",
       "\n",
       "    .dataframe tbody tr th {\n",
       "        vertical-align: top;\n",
       "    }\n",
       "\n",
       "    .dataframe thead th {\n",
       "        text-align: right;\n",
       "    }\n",
       "</style>\n",
       "<table border=\"1\" class=\"dataframe\">\n",
       "  <thead>\n",
       "    <tr style=\"text-align: right;\">\n",
       "      <th></th>\n",
       "      <th>itemname</th>\n",
       "      <th>entpname</th>\n",
       "      <th>ingredient</th>\n",
       "      <th>symptom</th>\n",
       "      <th>caution</th>\n",
       "    </tr>\n",
       "  </thead>\n",
       "  <tbody>\n",
       "    <tr>\n",
       "      <th>1001</th>\n",
       "      <td>젤존팝카타플라스마(플루르비프로펜)</td>\n",
       "      <td>(주)오현파마코푸레이션</td>\n",
       "      <td>플루르비프로펜</td>\n",
       "      <td>퇴행성관절염, 어깨관절주위염, 건,건초염, 상완골상과염, 근육통, 외상후의 종창,동...</td>\n",
       "      <td>이 약에 과민증 경험자 아스피린 천식 비스테로이드성 소염진통제 등에 의한 천식발작 ...</td>\n",
       "    </tr>\n",
       "    <tr>\n",
       "      <th>1003</th>\n",
       "      <td>조아팝(플루르비프로펜)</td>\n",
       "      <td>(주)재우스팜</td>\n",
       "      <td>플루르비프로펜</td>\n",
       "      <td>퇴행성관절염, 어깨관절주위염, 건,건초염, 상완골상과염, 근육통, 외상후의 종창,동...</td>\n",
       "      <td>이 약에 과민증 경험자 아스피린 천식 비스테로이드성 소염진통제 등에 의한 천식발작 ...</td>\n",
       "    </tr>\n",
       "    <tr>\n",
       "      <th>1116</th>\n",
       "      <td>다나펜카타플라스마(플루르비프로펜)</td>\n",
       "      <td>(주)오현파마코푸레이션</td>\n",
       "      <td>플루르비프로펜</td>\n",
       "      <td>퇴행성관절염, 어깨관절주위염, 건,건초염, 상완골상과염, 근육통, 외상후의 종창,동...</td>\n",
       "      <td>이 약에 과민증 경험자 아스피린 천식 비스테로이드성 소염진통제 등에 의한 천식발작 ...</td>\n",
       "    </tr>\n",
       "  </tbody>\n",
       "</table>\n",
       "</div>"
      ],
      "text/plain": [
       "                itemname       entpname ingredient  \\\n",
       "1001  젤존팝카타플라스마(플루르비프로펜)  (주)오현파마코푸레이션     플루르비프로펜   \n",
       "1003        조아팝(플루르비프로펜)        (주)재우스팜    플루르비프로펜   \n",
       "1116  다나펜카타플라스마(플루르비프로펜)  (주)오현파마코푸레이션     플루르비프로펜   \n",
       "\n",
       "                                                symptom  \\\n",
       "1001  퇴행성관절염, 어깨관절주위염, 건,건초염, 상완골상과염, 근육통, 외상후의 종창,동...   \n",
       "1003  퇴행성관절염, 어깨관절주위염, 건,건초염, 상완골상과염, 근육통, 외상후의 종창,동...   \n",
       "1116  퇴행성관절염, 어깨관절주위염, 건,건초염, 상완골상과염, 근육통, 외상후의 종창,동...   \n",
       "\n",
       "                                                caution  \n",
       "1001  이 약에 과민증 경험자 아스피린 천식 비스테로이드성 소염진통제 등에 의한 천식발작 ...  \n",
       "1003  이 약에 과민증 경험자 아스피린 천식 비스테로이드성 소염진통제 등에 의한 천식발작 ...  \n",
       "1116  이 약에 과민증 경험자 아스피린 천식 비스테로이드성 소염진통제 등에 의한 천식발작 ...  "
      ]
     },
     "metadata": {},
     "output_type": "display_data"
    },
    {
     "data": {
      "text/markdown": [
       "_________"
      ],
      "text/plain": [
       "<IPython.core.display.Markdown object>"
      ]
     },
     "metadata": {},
     "output_type": "display_data"
    },
    {
     "data": {
      "text/html": [
       "<div>\n",
       "<style scoped>\n",
       "    .dataframe tbody tr th:only-of-type {\n",
       "        vertical-align: middle;\n",
       "    }\n",
       "\n",
       "    .dataframe tbody tr th {\n",
       "        vertical-align: top;\n",
       "    }\n",
       "\n",
       "    .dataframe thead th {\n",
       "        text-align: right;\n",
       "    }\n",
       "</style>\n",
       "<table border=\"1\" class=\"dataframe\">\n",
       "  <thead>\n",
       "    <tr style=\"text-align: right;\">\n",
       "      <th></th>\n",
       "      <th>itemname</th>\n",
       "      <th>entpname</th>\n",
       "      <th>ingredient</th>\n",
       "      <th>symptom</th>\n",
       "      <th>caution</th>\n",
       "    </tr>\n",
       "  </thead>\n",
       "  <tbody>\n",
       "    <tr>\n",
       "      <th>1150</th>\n",
       "      <td>토비에스크림</td>\n",
       "      <td>알리코제약(주)</td>\n",
       "      <td>dl-캄파,디부카인염산염,에녹솔론,디펜히드라민,l-멘톨</td>\n",
       "      <td>벌레 물린데, 피부가려움, 습진, 두드러기, 피부염, 땀띠, 동창</td>\n",
       "      <td>30개월 이하의 유아는 이 약을 사용하지 마십시오 이 약을 사용하기 전에 약 또는 ...</td>\n",
       "    </tr>\n",
       "    <tr>\n",
       "      <th>1840</th>\n",
       "      <td>버물리키드크림</td>\n",
       "      <td>현대약품(주)</td>\n",
       "      <td>토코페롤아세테이트,덱스판테놀,글리시리진산이칼륨,디펜히드라민</td>\n",
       "      <td>가려움, 피부염, 습진, 두드러기, 땀띠, 동상, 벌레 물림, 짓무름</td>\n",
       "      <td>생후 1개월 미만의 소아는 이 약을 사용하지 마십시오 이 약을 사용하기 전에 알레르...</td>\n",
       "    </tr>\n",
       "    <tr>\n",
       "      <th>1905</th>\n",
       "      <td>버래물액</td>\n",
       "      <td>신신제약(주)</td>\n",
       "      <td>dl-캄파,디부카인염산염,디펜히드라민염산염,에녹솔론,l-멘톨</td>\n",
       "      <td>습진, 피부염, 땀띠, 옻 등에 의한 피부염, 가려움, 벌레물린데, 두드러기</td>\n",
       "      <td>30개월 이하의 유아  창상 상처 면  눈 주위  점막에는 사용하지 마십시오 이 약...</td>\n",
       "    </tr>\n",
       "  </tbody>\n",
       "</table>\n",
       "</div>"
      ],
      "text/plain": [
       "     itemname  entpname                         ingredient  \\\n",
       "1150   토비에스크림  알리코제약(주)     dl-캄파,디부카인염산염,에녹솔론,디펜히드라민,l-멘톨   \n",
       "1840  버물리키드크림   현대약품(주)   토코페롤아세테이트,덱스판테놀,글리시리진산이칼륨,디펜히드라민   \n",
       "1905     버래물액   신신제약(주)  dl-캄파,디부카인염산염,디펜히드라민염산염,에녹솔론,l-멘톨   \n",
       "\n",
       "                                         symptom  \\\n",
       "1150        벌레 물린데, 피부가려움, 습진, 두드러기, 피부염, 땀띠, 동창   \n",
       "1840      가려움, 피부염, 습진, 두드러기, 땀띠, 동상, 벌레 물림, 짓무름   \n",
       "1905  습진, 피부염, 땀띠, 옻 등에 의한 피부염, 가려움, 벌레물린데, 두드러기   \n",
       "\n",
       "                                                caution  \n",
       "1150  30개월 이하의 유아는 이 약을 사용하지 마십시오 이 약을 사용하기 전에 약 또는 ...  \n",
       "1840  생후 1개월 미만의 소아는 이 약을 사용하지 마십시오 이 약을 사용하기 전에 알레르...  \n",
       "1905  30개월 이하의 유아  창상 상처 면  눈 주위  점막에는 사용하지 마십시오 이 약...  "
      ]
     },
     "metadata": {},
     "output_type": "display_data"
    },
    {
     "data": {
      "text/markdown": [
       "_________"
      ],
      "text/plain": [
       "<IPython.core.display.Markdown object>"
      ]
     },
     "metadata": {},
     "output_type": "display_data"
    }
   ],
   "source": [
    "vis_cnt = 5\n",
    "cnt = 0\n",
    "\n",
    "for l in np.unique(label) :\n",
    "    bool_ = label == l    \n",
    "    allocated_df = prep_df.loc[bool_].iloc[:, [0,1,2,3,4]]\n",
    "    \n",
    "    if allocated_df.shape[0] == 1 : \n",
    "        continue\n",
    "    \n",
    "    display(allocated_df.head(3)) # only looks 3 of them\n",
    "    display(Markdown(\"_________\"))\n",
    "    \n",
    "    cnt += 1\n",
    "    if cnt > vis_cnt : \n",
    "        break"
   ]
  },
  {
   "cell_type": "code",
   "execution_count": 35,
   "metadata": {},
   "outputs": [],
   "source": [
    "mem = list()\n",
    "\n",
    "for l in np.unique(label) :\n",
    "    bool_ = label == l\n",
    "\n",
    "    allocated_iv = ingredient_vector[bool_].copy()\n",
    "    allocated_sv = symptom_vector[bool_].copy()\n",
    "    allocated_cv = caution_vector[bool_].copy()\n",
    "    \n",
    "    if allocated_iv.shape[0] <= 1 : \n",
    "        continue\n",
    "\n",
    "    ic, sc, cc = map(lambda x : np.round(calc_cossim_arr(x),3), [allocated_iv, allocated_sv, allocated_cv])\n",
    "    mem.append((ic, sc, cc))"
   ]
  },
  {
   "cell_type": "code",
   "execution_count": 36,
   "metadata": {
    "scrolled": true
   },
   "outputs": [
    {
     "data": {
      "image/png": "[encoded data removed]",
      "text/plain": [
       "<Figure size 1080x216 with 3 Axes>"
      ]
     },
     "metadata": {},
     "output_type": "display_data"
    }
   ],
   "source": [
    "fig, axs = plt.subplots(1,3, figsize=(15,3))\n",
    "flattened_axs = axs.ravel()\n",
    "\n",
    "fig.suptitle(\"Similarity Distribution between clusters\")\n",
    "for fn, idx in zip(['ingredient', 'symptom', 'caution'], range(len(mem[0]))) : \n",
    "    flattened_axs[idx].set_title(\"{} vectors\".format(fn))\n",
    "    flattened_axs[idx].hist(list(map(lambda x : x[idx], mem)), bins=10)\n",
    "    flattened_axs[idx].grid()\n",
    "fig.tight_layout()\n",
    "fig.show()"
   ]
  },
  {
   "cell_type": "markdown",
   "metadata": {},
   "source": [
    "___"
   ]
  },
  {
   "cell_type": "markdown",
   "metadata": {},
   "source": [
    "# Test 1"
   ]
  },
  {
   "cell_type": "code",
   "execution_count": 37,
   "metadata": {},
   "outputs": [],
   "source": [
    "iv = ingredient_vector.copy()\n",
    "sv = symptom_vector.copy()\n",
    "cv = caution_vector.copy()\n",
    "\n",
    "cossim_iv = cosine_similarity(iv)\n",
    "cossim_sv = cosine_similarity(sv)\n",
    "cossim_cv = cosine_similarity(cv)\n",
    "\n",
    "cossim_iv[np.tril_indices_from(cossim_iv)] = np.nan\n",
    "cossim_sv[np.tril_indices_from(cossim_sv)] = np.nan\n",
    "cossim_cv[np.tril_indices_from(cossim_cv)] = np.nan\n",
    "\n",
    "cossim_iv_vec = cossim_iv[np.isfinite(cossim_iv)]\n",
    "cossim_sv_vec = cossim_sv[np.isfinite(cossim_sv)]\n",
    "cossim_cv_vec = cossim_cv[np.isfinite(cossim_cv)]"
   ]
  },
  {
   "cell_type": "code",
   "execution_count": 38,
   "metadata": {},
   "outputs": [
    {
     "data": {
      "application/vnd.jupyter.widget-view+json": {
       "model_id": "71017e85058a4d249a7c2d6946c2bb81",
       "version_major": 2,
       "version_minor": 0
      },
      "text/plain": [
       "  0%|          | 0/100 [00:00<?, ?it/s]"
      ]
     },
     "metadata": {},
     "output_type": "display_data"
    }
   ],
   "source": [
    "mem = list()\n",
    "\n",
    "for _ in tqdm(range(100)) : \n",
    "    sampled_idx = np.random.choice(np.arange(cossim_iv_vec.shape[0]), 1000, replace=False)\n",
    "    sampled_cossim_iv_vec, sampled_cossim_sv_vec, sampled_cossim_cv_vec = \\\n",
    "    cossim_iv_vec[sampled_idx], cossim_sv_vec[sampled_idx], cossim_cv_vec[sampled_idx]\n",
    "    sampled_correl_mat = np.corrcoef([sampled_cossim_iv_vec, sampled_cossim_sv_vec, sampled_cossim_cv_vec])\n",
    "    mem.append(sampled_correl_mat)"
   ]
  },
  {
   "cell_type": "code",
   "execution_count": 39,
   "metadata": {},
   "outputs": [],
   "source": [
    "samples = np.nan_to_num(np.stack(mem))\n",
    "std_ = samples.std(0)/samples.shape[0]\n",
    "mean_ = samples.mean(0)\n",
    "z = 1.96"
   ]
  },
  {
   "cell_type": "code",
   "execution_count": 40,
   "metadata": {},
   "outputs": [
    {
     "data": {
      "text/markdown": [
       "### Lower confidence interval of correlation"
      ],
      "text/plain": [
       "<IPython.core.display.Markdown object>"
      ]
     },
     "metadata": {},
     "output_type": "display_data"
    },
    {
     "data": {
      "text/html": [
       "<div>\n",
       "<style scoped>\n",
       "    .dataframe tbody tr th:only-of-type {\n",
       "        vertical-align: middle;\n",
       "    }\n",
       "\n",
       "    .dataframe tbody tr th {\n",
       "        vertical-align: top;\n",
       "    }\n",
       "\n",
       "    .dataframe thead th {\n",
       "        text-align: right;\n",
       "    }\n",
       "</style>\n",
       "<table border=\"1\" class=\"dataframe\">\n",
       "  <thead>\n",
       "    <tr style=\"text-align: right;\">\n",
       "      <th></th>\n",
       "      <th>ingredient</th>\n",
       "      <th>symptom</th>\n",
       "      <th>caution</th>\n",
       "    </tr>\n",
       "  </thead>\n",
       "  <tbody>\n",
       "    <tr>\n",
       "      <th>ingredient</th>\n",
       "      <td>1.000000</td>\n",
       "      <td>0.915687</td>\n",
       "      <td>0.003631</td>\n",
       "    </tr>\n",
       "    <tr>\n",
       "      <th>symptom</th>\n",
       "      <td>0.915687</td>\n",
       "      <td>1.000000</td>\n",
       "      <td>0.026337</td>\n",
       "    </tr>\n",
       "    <tr>\n",
       "      <th>caution</th>\n",
       "      <td>0.003631</td>\n",
       "      <td>0.026337</td>\n",
       "      <td>1.000000</td>\n",
       "    </tr>\n",
       "  </tbody>\n",
       "</table>\n",
       "</div>"
      ],
      "text/plain": [
       "            ingredient   symptom   caution\n",
       "ingredient    1.000000  0.915687  0.003631\n",
       "symptom       0.915687  1.000000  0.026337\n",
       "caution       0.003631  0.026337  1.000000"
      ]
     },
     "metadata": {},
     "output_type": "display_data"
    },
    {
     "data": {
      "text/markdown": [
       "### Higher confidence interval of correlation"
      ],
      "text/plain": [
       "<IPython.core.display.Markdown object>"
      ]
     },
     "metadata": {},
     "output_type": "display_data"
    },
    {
     "data": {
      "text/html": [
       "<div>\n",
       "<style scoped>\n",
       "    .dataframe tbody tr th:only-of-type {\n",
       "        vertical-align: middle;\n",
       "    }\n",
       "\n",
       "    .dataframe tbody tr th {\n",
       "        vertical-align: top;\n",
       "    }\n",
       "\n",
       "    .dataframe thead th {\n",
       "        text-align: right;\n",
       "    }\n",
       "</style>\n",
       "<table border=\"1\" class=\"dataframe\">\n",
       "  <thead>\n",
       "    <tr style=\"text-align: right;\">\n",
       "      <th></th>\n",
       "      <th>ingredient</th>\n",
       "      <th>symptom</th>\n",
       "      <th>caution</th>\n",
       "    </tr>\n",
       "  </thead>\n",
       "  <tbody>\n",
       "    <tr>\n",
       "      <th>ingredient</th>\n",
       "      <td>1.000000</td>\n",
       "      <td>0.91610</td>\n",
       "      <td>0.004717</td>\n",
       "    </tr>\n",
       "    <tr>\n",
       "      <th>symptom</th>\n",
       "      <td>0.916100</td>\n",
       "      <td>1.00000</td>\n",
       "      <td>0.027530</td>\n",
       "    </tr>\n",
       "    <tr>\n",
       "      <th>caution</th>\n",
       "      <td>0.004717</td>\n",
       "      <td>0.02753</td>\n",
       "      <td>1.000000</td>\n",
       "    </tr>\n",
       "  </tbody>\n",
       "</table>\n",
       "</div>"
      ],
      "text/plain": [
       "            ingredient  symptom   caution\n",
       "ingredient    1.000000  0.91610  0.004717\n",
       "symptom       0.916100  1.00000  0.027530\n",
       "caution       0.004717  0.02753  1.000000"
      ]
     },
     "metadata": {},
     "output_type": "display_data"
    }
   ],
   "source": [
    "display(Markdown(\"### Lower confidence interval of correlation\"))\n",
    "display(pd.DataFrame(mean_-z*std_, index=['ingredient', 'symptom', 'caution'],\n",
    "            columns=['ingredient', 'symptom', 'caution']))\n",
    "\n",
    "display(Markdown(\"### Higher confidence interval of correlation\"))\n",
    "display(pd.DataFrame(mean_+z*std_, index=['ingredient', 'symptom', 'caution'],\n",
    "            columns=['ingredient', 'symptom', 'caution']))"
   ]
  },
  {
   "cell_type": "markdown",
   "metadata": {},
   "source": [
    "# Note\n",
    "\n",
    "[project 1](https://github.com/hskimim/medicine2vec/blob/master/clustering.ipynb) 과 비교했을 때, correlation 이 1.5배에서 2배정도로 상승한 것을 볼 수 있다. 흥미로운 점은, 모델 학습에 사용되지 않은 caution feature 의 correlation 또한 증가한 것이다."
   ]
  },
  {
   "cell_type": "markdown",
   "metadata": {},
   "source": [
    "____"
   ]
  },
  {
   "cell_type": "markdown",
   "metadata": {},
   "source": [
    "## Test 2"
   ]
  },
  {
   "cell_type": "code",
   "execution_count": 41,
   "metadata": {},
   "outputs": [],
   "source": [
    "def stat_test(vec, iters=30) : \n",
    "    cossim_symptom = cosine_similarity(vec[bool_])\n",
    "    cossim_symptom[np.tril_indices_from(cossim_symptom)] = np.nan\n",
    "    null_sim = np.nanmean(cossim_symptom)\n",
    "    \n",
    "    alternative_sim = 0\n",
    "    for i in range(iters) : \n",
    "        cossim_symptom = cosine_similarity(vec[not_index_])\n",
    "        cossim_symptom[np.tril_indices_from(cossim_symptom)] = np.nan\n",
    "        alternative_sim += np.nanmean(cossim_symptom)\n",
    "        \n",
    "    return null_sim, alternative_sim/iters"
   ]
  },
  {
   "cell_type": "code",
   "execution_count": 42,
   "metadata": {},
   "outputs": [],
   "source": [
    "nm_ls, vec_ls = ['ingredient', 'symptom', 'caution'], [ingredient_vector, symptom_vector, caution_vector]\n",
    "ncl = 500 # arbitrarily determined, same with project 1"
   ]
  },
  {
   "cell_type": "code",
   "execution_count": 43,
   "metadata": {
    "scrolled": false
   },
   "outputs": [
    {
     "data": {
      "image/png": "[encoded data removed]",
      "text/plain": [
       "<Figure size 432x288 with 1 Axes>"
      ]
     },
     "metadata": {},
     "output_type": "display_data"
    },
    {
     "data": {
      "image/png": "[encoded data removed]",
      "text/plain": [
       "<Figure size 432x288 with 1 Axes>"
      ]
     },
     "metadata": {},
     "output_type": "display_data"
    },
    {
     "data": {
      "image/png": "[encoded data removed]",
      "text/plain": [
       "<Figure size 432x288 with 1 Axes>"
      ]
     },
     "metadata": {},
     "output_type": "display_data"
    }
   ],
   "source": [
    "for idx in range(len(nm_ls)) : \n",
    "    \n",
    "    stacked_vector = normalize(vec_ls[idx])\n",
    "    U, S, Vt = np.linalg.svd(stacked_vector-np.mean(stacked_vector, 0))\n",
    "\n",
    "    cumul_var_ratio = np.cumsum((S**2)/np.sum(S**2))\n",
    "    truncate_idx = np.where(cumul_var_ratio > 0.9)[0].min()\n",
    "    reduced_emb = np.dot(stacked_vector - np.mean(stacked_vector, 0), Vt[:truncate_idx].T)\n",
    "    \n",
    "    label = AgglomerativeClustering(ncl).fit_predict(normalize(reduced_emb))\n",
    "\n",
    "    alt_ls1, alt_ls2 = list(), list()\n",
    "    not_target_index = np.arange(len(nm_ls))[~np.in1d(np.arange(len(nm_ls)), idx)]\n",
    "    \n",
    "    for l in np.unique(label) :    \n",
    "        bool_ = label == l\n",
    "        if bool_.sum() < 5 : \n",
    "            continue\n",
    "        not_index_ = np.random.choice(np.where(~bool_)[0], bool_.sum(), replace=False)\n",
    "\n",
    "        null_alt1,alternative_alt1 = stat_test(vec_ls[not_target_index[0]])\n",
    "        null_alt2,alternative_alt2 = stat_test(vec_ls[not_target_index[1]])\n",
    "\n",
    "        diff1 = null_alt1 - alternative_alt1\n",
    "        diff2 = null_alt2 - alternative_alt2\n",
    "\n",
    "        alt_ls1.append(diff1)\n",
    "        alt_ls2.append(diff2)\n",
    "\n",
    "    sns.histplot(alt_ls1, color=\"green\", label=nm_ls[not_target_index[0]], kde=True, stat=\"density\", linewidth=0)\n",
    "    sns.histplot(alt_ls2, color=\"red\", label=nm_ls[not_target_index[1]], kde=True, stat=\"density\", linewidth=0)\n",
    "    \n",
    "    plt.title(\"{}'s residual sim distribution\".format(nm_ls[idx]))\n",
    "    plt.grid()\n",
    "    plt.legend()\n",
    "    plt.show()"
   ]
  },
  {
   "cell_type": "markdown",
   "metadata": {},
   "source": [
    "# Note\n",
    "\n",
    "흥미로운 부분을 발견하였는데, 위에서 진행한 모델링은 ingredient vector 를 projection 을 통해, symptom vector 를 닮아가게 한 것이다. 이 때문인지, symptom 을 clustering 해서 본 ingredient feature 의 discrimination power 가 상승한 것을 확인할 수 있었다. 하지만, 이에 반해, 그 반대의 경우는 performance 가 줄어들었다. [[비교]](https://github.com/hskimim/medicine2vec/blob/master/clustering.ipynb)\n",
    "\n",
    "이에 따라, ingredient $\\rightarrow$ symptom 와 symptom $\\rightarrow$ ingredient 에 대해 양방향 학습을 하게 되면, modeling 에 사용된 feature 에 대해 모두 더 좋은 결과를 기대할 것이라는 가정에 이른다. 이는 project 2의 sub-section 으로 다른 notebook에서 다루도록 하겠다."
   ]
  }
 ],
 "metadata": {
  "kernelspec": {
   "display_name": "Python 3",
   "language": "python",
   "name": "python3"
  },
  "language_info": {
   "codemirror_mode": {
    "name": "ipython",
    "version": 3
   },
   "file_extension": ".py",
   "mimetype": "text/x-python",
   "name": "python",
   "nbconvert_exporter": "python",
   "pygments_lexer": "ipython3",
   "version": "3.8.5"
  }
 },
 "nbformat": 4,
 "nbformat_minor": 4
}
