{
 "cells": [
  {
   "cell_type": "markdown",
   "metadata": {},
   "source": [
    "- main_df.pickle : https://www.data.go.kr/tcs/dss/selectApiDataDetailView.do?publicDataPk=15075057\n",
    "- ingredient_table.xlsx : https://nedrug.mfds.go.kr/searchDrug"
   ]
  },
  {
   "cell_type": "code",
   "execution_count": null,
   "metadata": {},
   "outputs": [],
   "source": [
    "from tqdm.notebook import tqdm\n",
    "\n",
    "import requests\n",
    "import re\n",
    "from copy import copy\n",
    "from bs4 import BeautifulSoup"
   ]
  },
  {
   "cell_type": "code",
   "execution_count": 91,
   "metadata": {},
   "outputs": [],
   "source": [
    "key = 'xxx'"
   ]
  },
  {
   "cell_type": "code",
   "execution_count": 240,
   "metadata": {},
   "outputs": [
    {
     "data": {
      "application/vnd.jupyter.widget-view+json": {
       "model_id": "bf531b4c5acb42ddb2d25065449410a2",
       "version_major": 2,
       "version_minor": 0
      },
      "text/plain": [
       "HBox(children=(HTML(value=''), FloatProgress(value=0.0), HTML(value='')))"
      ]
     },
     "metadata": {},
     "output_type": "display_data"
    },
    {
     "name": "stdout",
     "output_type": "stream",
     "text": [
      "\n"
     ]
    }
   ],
   "source": [
    "mem = list()\n",
    "\n",
    "for n in tqdm(range(1,100+1)) : \n",
    "    url = 'http://apis.data.go.kr/1471000/DrbEasyDrugInfoService/getDrbEasyDrugList?serviceKey={key}&numOfRows=100&pageNo={page_number}'\n",
    "\n",
    "    req = requests.get(url.format(key=key,page_number=n))\n",
    "    dom = BeautifulSoup(req.text, 'lxml')\n",
    "\n",
    "    params = ['itemname', 'entpname', 'efcyqesitm', 'usemethodqesitm', 'atpnqesitm', 'itemseq']\n",
    "    txt_parser = lambda x : x.text\n",
    "\n",
    "    df = pd.DataFrame([list(map(txt_parser, dom.find_all(p))) for p in params]).T\n",
    "    df.columns = params\n",
    "    mem.append(df)\n",
    "\n",
    "    if not df.shape[0] : \n",
    "        break"
   ]
  },
  {
   "cell_type": "code",
   "execution_count": 241,
   "metadata": {},
   "outputs": [],
   "source": [
    "main_df = pd.concat(mem)"
   ]
  },
  {
   "cell_type": "code",
   "execution_count": 242,
   "metadata": {},
   "outputs": [],
   "source": [
    "pd.to_pickle(main_df, 'data/main_df.pickle')"
   ]
  }
 ],
 "metadata": {
  "kernelspec": {
   "display_name": "Python 3",
   "language": "python",
   "name": "python3"
  },
  "language_info": {
   "codemirror_mode": {
    "name": "ipython",
    "version": 3
   },
   "file_extension": ".py",
   "mimetype": "text/x-python",
   "name": "python",
   "nbconvert_exporter": "python",
   "pygments_lexer": "ipython3",
   "version": "3.8.5"
  }
 },
 "nbformat": 4,
 "nbformat_minor": 4
}
