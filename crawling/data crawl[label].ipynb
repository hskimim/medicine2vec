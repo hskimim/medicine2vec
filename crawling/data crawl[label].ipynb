{
 "cells": [
  {
   "cell_type": "code",
   "execution_count": 98,
   "metadata": {},
   "outputs": [],
   "source": [
    "from tqdm.notebook import tqdm\n",
    "\n",
    "import datetime\n",
    "import time\n",
    "import requests\n",
    "import re\n",
    "from copy import copy\n",
    "from bs4 import BeautifulSoup\n",
    "\n",
    "import pandas as pd"
   ]
  },
  {
   "cell_type": "code",
   "execution_count": 2,
   "metadata": {},
   "outputs": [],
   "source": [
    "req = requests.get('http://www.khmcpharm.com/Lib/Modules/MediSearch/popup_01.html')\n",
    "req.encoding = 'euc-kr'\n",
    "dom = BeautifulSoup(req.text, 'html')"
   ]
  },
  {
   "cell_type": "code",
   "execution_count": 51,
   "metadata": {},
   "outputs": [],
   "source": [
    "txt = [i.text for i in dom.select('table > tr > td')[3:]]"
   ]
  },
  {
   "cell_type": "code",
   "execution_count": 93,
   "metadata": {},
   "outputs": [],
   "source": [
    "data = list()\n",
    "for i in txt : \n",
    "    splitted = i.split('\\n\\n\\n')\n",
    "    for s in splitted : \n",
    "        s = re.sub(\"\\d\\s[가-힣][A-Z]\", '', s)\n",
    "        if '닫기' in s : \n",
    "            continue\n",
    "        if not s : \n",
    "            continue\n",
    "        data.append(s.replace(\"\\n\",''))\n",
    "        \n",
    "splitted = [i.split(\" \") for i in data]\n",
    "splitted = [(s[0], ','.join(s[1:]).replace(\",\",' '))for s in splitted]"
   ]
  },
  {
   "cell_type": "code",
   "execution_count": 95,
   "metadata": {
    "scrolled": false
   },
   "outputs": [],
   "source": [
    "dict_ = dict()\n",
    "\n",
    "for ls in splitted : \n",
    "    id_, cls_ = ls\n",
    "    dict_[id_] = cls_"
   ]
  },
  {
   "cell_type": "code",
   "execution_count": 97,
   "metadata": {},
   "outputs": [],
   "source": [
    "pd.to_pickle(dict_, \"data/label_mapper.pickle\")"
   ]
  },
  {
   "cell_type": "markdown",
   "metadata": {},
   "source": [
    "____"
   ]
  },
  {
   "cell_type": "code",
   "execution_count": 2,
   "metadata": {},
   "outputs": [],
   "source": [
    "numdays = 400\n",
    "base = datetime.datetime.today()\n",
    "date_list = sorted([base - datetime.timedelta(days=x) for x in range(numdays)])\n",
    "ymd_ls = [dt.year*10000+dt.month*100+dt.day for dt in date_list]\n",
    "data_index = range(1,10+1)"
   ]
  },
  {
   "cell_type": "code",
   "execution_count": 8,
   "metadata": {},
   "outputs": [
    {
     "data": {
      "application/vnd.jupyter.widget-view+json": {
       "model_id": "dcab3f31ed804d18923795fd8884bd74",
       "version_major": 2,
       "version_minor": 0
      },
      "text/plain": [
       "  0%|          | 0/400 [00:00<?, ?it/s]"
      ]
     },
     "metadata": {},
     "output_type": "display_data"
    }
   ],
   "source": [
    "mem = list()\n",
    "\n",
    "for ymd in tqdm(ymd_ls) : \n",
    "    for di in data_index : \n",
    "#        time.sleep(0.5)\n",
    "        \n",
    "        ymd_code = ymd * 100000 + di\n",
    "        url = f'https://www.health.kr/searchDrug/ajax/ajax_result_drug2.asp?drug_cd={ymd_code}'\n",
    "\n",
    "        custom_header = {\n",
    "            'user-agent' : 'Mozilla/5.0 (Macintosh; Intel Mac OS X 10_14_4) AppleWebKit/537.36 (KHTML, like Gecko) Chrome/73.0.3683.103 Safari/537.36'  }\n",
    "\n",
    "        req = requests.get(url, headers=custom_header)\n",
    "        dom = BeautifulSoup(req.text, 'html')\n",
    "\n",
    "        is_invalid = dom.text == '[]'\n",
    "        is_invalid\n",
    "\n",
    "        if is_invalid : \n",
    "            continue\n",
    "        txt = str(dom.select(\"body > p\")[0])\n",
    "        indexes = [m.start() for m in re.finditer(\"\\{|}\", txt)]\n",
    "        if len(indexes) != 2 : \n",
    "            dict_form = txt\n",
    "        else : \n",
    "            dict_form = txt[indexes[0]:indexes[1]]\n",
    "\n",
    "        founds = re.findall('\\\"\\w+\\\"\\:\\\"[0-9]+\\\"', dict_form)\n",
    "        dict_ = dict()\n",
    "\n",
    "        for element in founds : \n",
    "            k,v = element.split(\":\")\n",
    "            dict_[k.replace('\"','')] = v.replace('\"','')\n",
    "\n",
    "        try : \n",
    "            founds = re.findall('\\\"atc_cd\\\"\\:\\\"[A-Z0-9]+\\|', dict_form)[0]\n",
    "        except IndexError : \n",
    "            continue\n",
    "\n",
    "        k,v = founds.split(\":\")\n",
    "        dict_[k.replace('\"','')] = v.replace('\"','').replace(\"|\",'')\n",
    "        mem.append(dict_)        "
   ]
  },
  {
   "cell_type": "code",
   "execution_count": 12,
   "metadata": {},
   "outputs": [],
   "source": [
    "data = pd.DataFrame(mem)"
   ]
  },
  {
   "cell_type": "code",
   "execution_count": 14,
   "metadata": {},
   "outputs": [],
   "source": [
    "pd.to_pickle(data, \"data/label_df.pickle\")"
   ]
  }
 ],
 "metadata": {
  "kernelspec": {
   "display_name": "Python 3",
   "language": "python",
   "name": "python3"
  },
  "language_info": {
   "codemirror_mode": {
    "name": "ipython",
    "version": 3
   },
   "file_extension": ".py",
   "mimetype": "text/x-python",
   "name": "python",
   "nbconvert_exporter": "python",
   "pygments_lexer": "ipython3",
   "version": "3.8.5"
  }
 },
 "nbformat": 4,
 "nbformat_minor": 4
}
